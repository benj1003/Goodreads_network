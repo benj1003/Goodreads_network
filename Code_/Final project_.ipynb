{
 "cells": [
  {
   "cell_type": "markdown",
   "metadata": {},
   "source": [
    "# Final project\n",
    "\n",
    "## Data\n",
    "\n",
    "#### Categories\n",
    "* Best books\n",
    "* Worst books\n",
    "\n",
    "#### Number of books in each category\n",
    "$$ \\int_{0}^{\\infty} \\mathbb{1}_{\\text{[6,81]}} \\frac{12}{1 + 11 \\cdot e^{-0.1499 \\cdot x}} dx \\quad = \\quad 746$$\n",
    "\n",
    "Assumptions:\n",
    "* The amount of books an average person reads in a lifetime follows logistic growth\n",
    "* An average person starts reading at age 6\n",
    "* An average person dies at age 81\n",
    "* An average person read at max 12 books a year\n",
    "* At age 16 the growth is at its peak\n",
    "\n",
    "#### Node attributes\n",
    "* Book Title\n",
    "* Auther\n",
    "* Genre\n",
    "* Avg. rating\n",
    "* Number of ratings\n",
    "\n",
    "#### Edge data\n",
    "* Related books\n",
    "\n",
    "#### Extra info for NLP\n",
    "* Reviews of each book - n = max(n. reviews, 15)"
   ]
  },
  {
   "cell_type": "code",
   "execution_count": 2,
   "metadata": {},
   "outputs": [],
   "source": [
    "import matplotlib.pyplot as plt\n",
    "import numpy as np\n",
    "import math\n",
    "\n",
    "x = np.arange(0,100, 0.01)\n",
    "\n",
    "def n_books(x, c, a, b, min_age, max_age):\n",
    "    total = []\n",
    "    for n in x:\n",
    "        total.append((c / (1 + a*math.exp(b * n))))\n",
    "    return total\n",
    "\n",
    "t = n_books(x, 12, 11, -0.1499, 6, 81)"
   ]
  },
  {
   "cell_type": "code",
   "execution_count": 68,
   "metadata": {},
   "outputs": [
    {
     "data": {
      "image/png": "[encoded data removed]",
      "text/plain": [
       "<Figure size 360x360 with 1 Axes>"
      ]
     },
     "metadata": {
      "needs_background": "light"
     },
     "output_type": "display_data"
    }
   ],
   "source": [
    "plt.figure(figsize = (5,5))\n",
    "plt.plot(x, t, color='black')\n",
    "plt.fill_between(np.arange(6,81,0.01), t[600:8100], alpha = 0.1, facecolor='black')\n",
    "plt.ylim(0,13)\n",
    "plt.xlim(0,100)\n",
    "plt.title(\"Number of books an average person reads as a function of age\")\n",
    "plt.xlabel(\"Age\")\n",
    "plt.ylabel(\"Number of books\")\n",
    "plt.show()"
   ]
  },
  {
   "cell_type": "code",
   "execution_count": 9,
   "metadata": {},
   "outputs": [
    {
     "name": "stdout",
     "output_type": "stream",
     "text": [
      "Computed AUC: 763.78\n"
     ]
    }
   ],
   "source": [
    "from sklearn.metrics import auc\n",
    "dx = 5\n",
    "xx = x[600:8100]\n",
    "yy = t[600:8100]\n",
    "\n",
    "print('Computed AUC: {:.2f}'.format(auc(xx,yy)))"
   ]
  }
 ],
 "metadata": {
  "kernelspec": {
   "display_name": "Python 3",
   "language": "python",
   "name": "python3"
  },
  "language_info": {
   "codemirror_mode": {
    "name": "ipython",
    "version": 3
   },
   "file_extension": ".py",
   "mimetype": "text/x-python",
   "name": "python",
   "nbconvert_exporter": "python",
   "pygments_lexer": "ipython3",
   "version": "3.7.1"
  }
 },
 "nbformat": 4,
 "nbformat_minor": 2
}
