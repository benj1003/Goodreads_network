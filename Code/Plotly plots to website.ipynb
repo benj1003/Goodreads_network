{
 "cells": [
  {
   "cell_type": "code",
   "execution_count": 1,
   "metadata": {},
   "outputs": [],
   "source": [
    "import pandas as pd\n",
    "import networkx as nx\n",
    "import matplotlib.pyplot as plt\n",
    "%matplotlib inline\n",
    "import plotly.graph_objs as go\n",
    "import plotly as py\n",
    "from fa2 import ForceAtlas2\n",
    "import matplotlib.colors as pltcolors"
   ]
  },
  {
   "cell_type": "code",
   "execution_count": 2,
   "metadata": {},
   "outputs": [],
   "source": [
    "G = nx.read_gpickle('postive_books_graph.pcl')\n",
    "\n",
    "d = dict(G.degree)\n",
    "d_between = dict(nx.betweenness_centrality(G))\n",
    "d_eigen = dict(nx.eigenvector_centrality(G))\n",
    "\n",
    "total = pd.DataFrame(data = {'Name' : list(d.keys()), \n",
    "                             'Degree' : list(d.values()),\n",
    "                             'Betweenness_centrality' : list(d_between.values()),\n",
    "                             'Eigenvector_centrality' : list(d_eigen.values())})"
   ]
  },
  {
   "cell_type": "code",
   "execution_count": 3,
   "metadata": {},
   "outputs": [
    {
     "name": "stdout",
     "output_type": "stream",
     "text": [
      "The network consists of 1917 nodes and 9898 edges.\n"
     ]
    }
   ],
   "source": [
    "print(f\"The network consists of {nx.number_of_nodes(G)} nodes and {nx.number_of_edges(G)} edges.\")"
   ]
  },
  {
   "cell_type": "markdown",
   "metadata": {},
   "source": [
    "# Plotting network"
   ]
  },
  {
   "cell_type": "code",
   "execution_count": 29,
   "metadata": {},
   "outputs": [],
   "source": [
    "colors, pos = set_generic_node_attributes(G, 'genre', scaling=0.1, grav=10, log=False,  n_f2_iter=2000)"
   ]
  },
  {
   "cell_type": "code",
   "execution_count": 32,
   "metadata": {},
   "outputs": [],
   "source": [
    "edge_trace = edges_to_plot(G, pos)"
   ]
  },
  {
   "cell_type": "code",
   "execution_count": 33,
   "metadata": {},
   "outputs": [
    {
     "name": "stdout",
     "output_type": "stream",
     "text": [
      "Getting node coordinates\n",
      "Setting hover text for nodes\n",
      "Creating figure\n"
     ]
    }
   ],
   "source": [
    "degree_node_trace = nodes_to_plot(G, 'Degree', colors)\n",
    "G_degree = make_fig(edge_trace, degree_node_trace, 'Network with nodesize proportional to degree')"
   ]
  },
  {
   "cell_type": "code",
   "execution_count": 34,
   "metadata": {},
   "outputs": [
    {
     "data": {
      "text/plain": [
       "'Plots/G_degree.html'"
      ]
     },
     "execution_count": 34,
     "metadata": {},
     "output_type": "execute_result"
    }
   ],
   "source": [
    "py.offline.plot(G_degree, filename = 'Plots/G_degree.html', auto_open=True)"
   ]
  },
  {
   "cell_type": "code",
   "execution_count": 35,
   "metadata": {},
   "outputs": [
    {
     "name": "stdout",
     "output_type": "stream",
     "text": [
      "Getting node coordinates\n",
      "Setting hover text for nodes\n",
      "Creating figure\n"
     ]
    }
   ],
   "source": [
    "between_node_trace = nodes_to_plot(G, 'Betweenness_centrality', colors)\n",
    "G_between = make_fig(edge_trace, between_node_trace, 'Network with nodesize proportional to betweenness-centrality')"
   ]
  },
  {
   "cell_type": "code",
   "execution_count": 36,
   "metadata": {},
   "outputs": [
    {
     "data": {
      "text/plain": [
       "'Plots/G_betweeen.html'"
      ]
     },
     "execution_count": 36,
     "metadata": {},
     "output_type": "execute_result"
    }
   ],
   "source": [
    "py.offline.plot(G_between, filename = 'Plots/G_betweeen.html', auto_open=True)"
   ]
  },
  {
   "cell_type": "code",
   "execution_count": 37,
   "metadata": {},
   "outputs": [
    {
     "name": "stdout",
     "output_type": "stream",
     "text": [
      "Getting node coordinates\n",
      "Setting hover text for nodes\n",
      "Creating figure\n"
     ]
    }
   ],
   "source": [
    "eigen_node_trace = nodes_to_plot(G, 'Eigenvector_centrality', colors)\n",
    "G_eigen = make_fig(edge_trace, eigen_node_trace, 'Network with nodesize proportional to eigenvector-centrality')"
   ]
  },
  {
   "cell_type": "code",
   "execution_count": 38,
   "metadata": {},
   "outputs": [
    {
     "data": {
      "text/plain": [
       "'Plots/G_eigen.html'"
      ]
     },
     "execution_count": 38,
     "metadata": {},
     "output_type": "execute_result"
    }
   ],
   "source": [
    "py.offline.plot(G_eigen, filename = 'Plots/G_eigen.html', auto_open=True)"
   ]
  },
  {
   "cell_type": "markdown",
   "metadata": {},
   "source": [
    "# Functions"
   ]
  },
  {
   "cell_type": "code",
   "execution_count": 5,
   "metadata": {},
   "outputs": [],
   "source": [
    "def set_generic_node_attributes(G, color_by, scaling=1, grav=1, log=False,  n_f2_iter=2000):\n",
    "    '''\n",
    "    Function to get colors given a given group, and initialise the Force Atalas algorithm. \n",
    "    \n",
    "    Parameters:\n",
    "    G: networkx graph with attribute color_by\n",
    "    color_by: attribute in graph G that graph should be colored by\n",
    "    scaling: hyperparameter for Force Atlas algorithm. By default set to 1\n",
    "    grav: gravity hyperparameter for Force Atlas algorithm. By default set to 1\n",
    "    log: if True progress bar of tuning of Force Atlas will be displayed\n",
    "    n_f2_iter: number of iterations for Force Atlas algorithm. By default set to 2000\n",
    "    \n",
    "    Return:\n",
    "    colors: map for color of node in graph\n",
    "    pos: positions for nodes in graph\n",
    "    '''\n",
    "    \n",
    "    # Getting mapping of colors for nodes to seperate on genre:\n",
    "    groups = set(nx.get_node_attributes(G,color_by).values())\n",
    "    colors_tmp = list(pltcolors._colors_full_map.values())[0:len(groups)]\n",
    "    cmap = dict(zip(groups, colors_tmp))\n",
    "    nodes = G.nodes()\n",
    "    colors = [cmap.get(G.node[n][color_by]) for n in nodes]\n",
    "\n",
    "    #Defining positions using Force Atlas algorithm\n",
    "    forceatlas2 = ForceAtlas2(\n",
    "                        # Behavior alternatives\n",
    "                        outboundAttractionDistribution=True,  # Dissuade hubs\n",
    "                        linLogMode=False,  # NOT IMPLEMENTED\n",
    "                        adjustSizes=False,  # Prevent overlap (NOT IMPLEMENTED)\n",
    "                        edgeWeightInfluence=1.0,\n",
    "\n",
    "                        # Performance\n",
    "                        jitterTolerance=1.0,  # Tolerance\n",
    "                        barnesHutOptimize=True,\n",
    "                        barnesHutTheta=1.2,\n",
    "                        multiThreaded=False,  # NOT IMPLEMENTED\n",
    "\n",
    "                        # Tuning\n",
    "                        scalingRatio=scaling,\n",
    "                        strongGravityMode=False,\n",
    "                        gravity=grav,\n",
    "\n",
    "                        # Log\n",
    "                        verbose=log)\n",
    "    \n",
    "    pos = forceatlas2.forceatlas2_networkx_layout(G, pos=None, iterations=n_f2_iter)\n",
    "    \n",
    "    return colors, pos"
   ]
  },
  {
   "cell_type": "code",
   "execution_count": null,
   "metadata": {},
   "outputs": [],
   "source": [
    "def make_plot(G, d_measure, title, colors = 0):\n",
    "    '''\n",
    "    Function generating an interactive plot of network.\n",
    "    \n",
    "    INPUT:\n",
    "    - G: Graph as networkx graph\n",
    "    - d_measure: Measure defining size of nodes as string (possible values: 'Degree', 'Betweenness_centrality', 'Eigenvector_centrality')\n",
    "    - title: Title on plot as string\n",
    "    - Colors: Mapping of colors (Should not be set )\n",
    "    '''\n",
    "    \n",
    "    \n",
    "    \n",
    "    if d_measure == 'Degree':\n",
    "        add = 50\n",
    "        scale = 80\n",
    "    elif d_measure == 'Betweenness_centrality':\n",
    "        add = 0.001\n",
    "        scale = 100 \n",
    "    else:\n",
    "        add = 0\n",
    "        scale = 25\n",
    "    \n",
    "    # Get coordinates of edges\n",
    "    print(\"Getting edge coordinates\")\n",
    "    edge_trace = go.Scatter(\n",
    "    x=[],\n",
    "    y=[],\n",
    "    line=dict(width=0.5,color='#888'),\n",
    "    hoverinfo='none',\n",
    "    mode='lines')\n",
    "    for edge in G.edges():\n",
    "        x0, y0 = pos.get(edge[0])\n",
    "        x1, y1 = pos.get(edge[1])\n",
    "        edge_trace['x'] += tuple([x0, x1, None])\n",
    "        edge_trace['y'] += tuple([y0, y1, None])\n",
    "    \n",
    "    #Get coordinates of nodes\n",
    "    print(\"Getting node coordinates\")\n",
    "    node_trace = go.Scatter(\n",
    "    x=[],\n",
    "    y=[],\n",
    "    text=[],\n",
    "    mode='markers',\n",
    "    hoverinfo='text',\n",
    "    marker=dict(\n",
    "        showscale=False,\n",
    "        colorscale='YlGnBu',\n",
    "        reversescale=True,\n",
    "        color=colors,\n",
    "        size=((total[d_measure]+add)/total[d_measure].max())*scale,\n",
    "        line=dict(width=2)))\n",
    "    for node in G.nodes():\n",
    "        x, y = pos.get(node)\n",
    "        node_trace['x'] += tuple([x])\n",
    "        node_trace['y'] += tuple([y])\n",
    "    \n",
    "    # Get hover text for nodes\n",
    "    print(\"Setting hover text for nodes\")\n",
    "    for node, adjacencies in enumerate(G.adjacency()):\n",
    "        node_info = 'Name: ' + str(adjacencies[0]) + '<br># of ingoing connections: '+str(len(adjacencies[1]))\n",
    "        node_trace['text']+=tuple([node_info])\n",
    "    \n",
    "    # Create figures\n",
    "    print(\"Creating figure\")\n",
    "    fig = go.Figure(data=[edge_trace, node_trace],\n",
    "             layout=go.Layout(\n",
    "                title=title,\n",
    "                titlefont=dict(size=20),\n",
    "                showlegend=False,\n",
    "                hovermode='closest',\n",
    "                margin=dict(b=20,l=5,r=5,t=40),\n",
    "                annotations=[ dict(\n",
    "                    showarrow=False,\n",
    "                    xref=\"paper\", yref=\"paper\",\n",
    "                    x=0.005, y=-0.002 ) ],\n",
    "                xaxis=dict(showgrid=False, zeroline=False, showticklabels=False),\n",
    "                yaxis=dict(showgrid=False, zeroline=False, showticklabels=False),\n",
    "                plot_bgcolor = 'white'))\n",
    "    return fig"
   ]
  },
  {
   "cell_type": "code",
   "execution_count": 17,
   "metadata": {},
   "outputs": [],
   "source": [
    "def edges_to_plot(G, pos):\n",
    "    '''Function that gets the position for all the edges'''\n",
    "    edge_trace = go.Scatter(\n",
    "    x=[],\n",
    "    y=[],\n",
    "    line=dict(width=0.5,color='#888'),\n",
    "    hoverinfo='none',\n",
    "    mode='lines')\n",
    "    for edge in G.edges():\n",
    "        x0, y0 = pos.get(edge[0])\n",
    "        x1, y1 = pos.get(edge[1])\n",
    "        edge_trace['x'] += tuple([x0, x1, None])\n",
    "        edge_trace['y'] += tuple([y0, y1, None])\n",
    "    return edge_trace"
   ]
  },
  {
   "cell_type": "code",
   "execution_count": 16,
   "metadata": {},
   "outputs": [],
   "source": [
    "def nodes_to_plot(G, d_measure, colors):\n",
    "    '''Function that gets the position for all the nodes and adds hover text'''\n",
    "    if d_measure == 'Degree':\n",
    "        add = 50\n",
    "        scale = 80\n",
    "    elif d_measure == 'Betweenness_centrality':\n",
    "        add = 0.001\n",
    "        scale = 100 \n",
    "    else:\n",
    "        add = 0\n",
    "        scale = 25\n",
    "        \n",
    "    #Get coordinates of nodes\n",
    "    print(\"Getting node coordinates\")\n",
    "    node_trace = go.Scatter(\n",
    "    x=[],\n",
    "    y=[],\n",
    "    text=[],\n",
    "    mode='markers',\n",
    "    hoverinfo='text',\n",
    "    marker=dict(\n",
    "        showscale=False,\n",
    "        colorscale='YlGnBu',\n",
    "        reversescale=True,\n",
    "        color=colors,\n",
    "        size=((total[d_measure]+add)/total[d_measure].max())*scale,\n",
    "        line=dict(width=2)))\n",
    "    for node in G.nodes():\n",
    "        x, y = pos.get(node)\n",
    "        node_trace['x'] += tuple([x])\n",
    "        node_trace['y'] += tuple([y])\n",
    "    \n",
    "    # Get hover text for nodes\n",
    "    print(\"Setting hover text for nodes\")\n",
    "    for node, adjacencies in enumerate(G.adjacency()):\n",
    "        node_info = 'Name: ' + str(adjacencies[0]) + '<br># of ingoing connections: '+str(len(adjacencies[1]))\n",
    "        node_trace['text']+=tuple([node_info])\n",
    "    \n",
    "    return node_trace"
   ]
  },
  {
   "cell_type": "code",
   "execution_count": 15,
   "metadata": {},
   "outputs": [],
   "source": [
    "def make_fig(edge_trace, node_trace, title):\n",
    "    '''Function that creates a figure based on edge- and node-trace'''\n",
    "    # Create figures\n",
    "    print(\"Creating figure\")\n",
    "    fig = go.Figure(data=[edge_trace, node_trace],\n",
    "             layout=go.Layout(\n",
    "                title=title,\n",
    "                titlefont=dict(size=20),\n",
    "                showlegend=False,\n",
    "                hovermode='closest',\n",
    "                margin=dict(b=20,l=5,r=5,t=40),\n",
    "                annotations=[ dict(\n",
    "                    showarrow=False,\n",
    "                    xref=\"paper\", yref=\"paper\",\n",
    "                    x=0.005, y=-0.002 ) ],\n",
    "                xaxis=dict(showgrid=False, zeroline=False, showticklabels=False),\n",
    "                yaxis=dict(showgrid=False, zeroline=False, showticklabels=False),\n",
    "                plot_bgcolor = 'white'))\n",
    "    return fig"
   ]
  },
  {
   "cell_type": "code",
   "execution_count": 26,
   "metadata": {},
   "outputs": [],
   "source": [
    "def make_fig2(node_trace, title):\n",
    "    '''Function that creates a figure based on edge- and node-trace'''\n",
    "    # Create figures\n",
    "    print(\"Creating figure\")\n",
    "    fig = go.Figure(data=[node_trace],\n",
    "             layout=go.Layout(\n",
    "                title=title,\n",
    "                titlefont=dict(size=20),\n",
    "                showlegend=False,\n",
    "                hovermode='closest',\n",
    "                margin=dict(b=20,l=5,r=5,t=40),\n",
    "                annotations=[ dict(\n",
    "                    showarrow=False,\n",
    "                    xref=\"paper\", yref=\"paper\",\n",
    "                    x=0.005, y=-0.002 ) ],\n",
    "                xaxis=dict(showgrid=False, zeroline=False, showticklabels=False),\n",
    "                yaxis=dict(showgrid=False, zeroline=False, showticklabels=False),\n",
    "                plot_bgcolor = 'white'))\n",
    "    return fig"
   ]
  },
  {
   "cell_type": "code",
   "execution_count": 17,
   "metadata": {},
   "outputs": [
    {
     "data": {
      "text/html": [
       "<div>\n",
       "<style scoped>\n",
       "    .dataframe tbody tr th:only-of-type {\n",
       "        vertical-align: middle;\n",
       "    }\n",
       "\n",
       "    .dataframe tbody tr th {\n",
       "        vertical-align: top;\n",
       "    }\n",
       "\n",
       "    .dataframe thead th {\n",
       "        text-align: right;\n",
       "    }\n",
       "</style>\n",
       "<table border=\"1\" class=\"dataframe\">\n",
       "  <thead>\n",
       "    <tr style=\"text-align: right;\">\n",
       "      <th></th>\n",
       "      <th>title</th>\n",
       "      <th>author</th>\n",
       "      <th>genre</th>\n",
       "      <th>rating</th>\n",
       "      <th>rating_count</th>\n",
       "      <th>related</th>\n",
       "      <th>review</th>\n",
       "    </tr>\n",
       "  </thead>\n",
       "  <tbody>\n",
       "    <tr>\n",
       "      <th>0</th>\n",
       "      <td>To Kill a Mockingbird</td>\n",
       "      <td>Harper Lee</td>\n",
       "      <td>Classics</td>\n",
       "      <td>4.27</td>\n",
       "      <td>4058926</td>\n",
       "      <td>['Harry Potter and the Deathly Hallows', 'Lord...</td>\n",
       "      <td>[[\"\\n           \\n           Why is it when I ...</td>\n",
       "    </tr>\n",
       "  </tbody>\n",
       "</table>\n",
       "</div>"
      ],
      "text/plain": [
       "                   title      author     genre  rating  rating_count  \\\n",
       "0  To Kill a Mockingbird  Harper Lee  Classics    4.27       4058926   \n",
       "\n",
       "                                             related  \\\n",
       "0  ['Harry Potter and the Deathly Hallows', 'Lord...   \n",
       "\n",
       "                                              review  \n",
       "0  [[\"\\n           \\n           Why is it when I ...  "
      ]
     },
     "execution_count": 17,
     "metadata": {},
     "output_type": "execute_result"
    }
   ],
   "source": [
    "test.head(1)"
   ]
  },
  {
   "cell_type": "code",
   "execution_count": 26,
   "metadata": {},
   "outputs": [],
   "source": [
    "test.rating = pd.to_numeric(test.rating)\n",
    "test.rating_count = pd.to_numeric(test.rating_count)"
   ]
  },
  {
   "cell_type": "code",
   "execution_count": 33,
   "metadata": {},
   "outputs": [
    {
     "data": {
      "image/png": "[encoded data removed]",
      "text/plain": [
       "<Figure size 432x288 with 1 Axes>"
      ]
     },
     "metadata": {
      "needs_background": "light"
     },
     "output_type": "display_data"
    }
   ],
   "source": [
    "plt.scatter(test.rating, np.log(test.rating_count), alpha=0.5)\n",
    "plt.show()"
   ]
  },
  {
   "cell_type": "code",
   "execution_count": 42,
   "metadata": {},
   "outputs": [
    {
     "name": "stdout",
     "output_type": "stream",
     "text": [
      "0.2540602128699682\n",
      "0.05976603454608498\n"
     ]
    },
    {
     "data": {
      "image/png": "[encoded data removed]",
      "text/plain": [
       "<Figure size 432x288 with 1 Axes>"
      ]
     },
     "metadata": {
      "needs_background": "light"
     },
     "output_type": "display_data"
    }
   ],
   "source": [
    "from sklearn.linear_model import LinearRegression\n",
    "\n",
    "from sklearn.metrics import mean_squared_error, r2_score\n",
    "\n",
    "from sklearn.preprocessing import PolynomialFeatures\n",
    "\n",
    "\n",
    "\n",
    "# transforming the data to include another axis\n",
    "\n",
    "x = np.log(test.rating_count)[:, np.newaxis]\n",
    "\n",
    "y = test.rating[:, np.newaxis]\n",
    "\n",
    "polynomial_features= PolynomialFeatures(degree=10)\n",
    "\n",
    "x_poly = polynomial_features.fit_transform(x)\n",
    "\n",
    "\n",
    "\n",
    "model = LinearRegression()\n",
    "\n",
    "model.fit(x_poly, y)\n",
    "\n",
    "y_poly_pred = model.predict(x_poly)\n",
    "\n",
    "\n",
    "\n",
    "rmse = np.sqrt(mean_squared_error(y,y_poly_pred))\n",
    "\n",
    "r2 = r2_score(y,y_poly_pred)\n",
    "\n",
    "print(rmse)\n",
    "\n",
    "print(r2)\n",
    "\n",
    "\n",
    "\n",
    "plt.scatter(np.log(test.rating_count), test.rating, s=10)\n",
    "\n",
    "# sort the values of x before line plot\n",
    "\n",
    "sort_axis = operator.itemgetter(0)\n",
    "\n",
    "sorted_zip = sorted(zip(x,y_poly_pred), key=sort_axis)\n",
    "\n",
    "x, y_poly_pred = zip(*sorted_zip)\n",
    "\n",
    "plt.plot(x, y_poly_pred, color='m')\n",
    "\n",
    "plt.show()"
   ]
  }
 ],
 "metadata": {
  "kernelspec": {
   "display_name": "Python 3",
   "language": "python",
   "name": "python3"
  },
  "language_info": {
   "codemirror_mode": {
    "name": "ipython",
    "version": 3
   },
   "file_extension": ".py",
   "mimetype": "text/x-python",
   "name": "python",
   "nbconvert_exporter": "python",
   "pygments_lexer": "ipython3",
   "version": "3.7.1"
  }
 },
 "nbformat": 4,
 "nbformat_minor": 2
}
