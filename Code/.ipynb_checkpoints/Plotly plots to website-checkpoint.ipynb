{
 "cells": [
  {
   "cell_type": "code",
   "execution_count": 1,
   "metadata": {},
   "outputs": [],
   "source": [
    "import pandas as pd\n",
    "import networkx as nx\n",
    "import matplotlib.pyplot as plt\n",
    "%matplotlib inline\n",
    "import plotly.graph_objs as go\n",
    "import plotly as py\n",
    "from fa2 import ForceAtlas2\n",
    "import matplotlib.colors as pltcolors"
   ]
  },
  {
   "cell_type": "code",
   "execution_count": 2,
   "metadata": {},
   "outputs": [],
   "source": [
    "G = nx.read_gpickle('Data/postive_books_graph.pcl')\n",
    "\n",
    "d = dict(G.degree)\n",
    "d_between = dict(nx.betweenness_centrality(G))\n",
    "d_eigen = dict(nx.eigenvector_centrality(G))\n",
    "\n",
    "total = pd.DataFrame(data = {'Name' : list(d.keys()), \n",
    "                             'Degree' : list(d.values()),\n",
    "                             'Betweenness_centrality' : list(d_between.values()),\n",
    "                             'Eigenvector_centrality' : list(d_eigen.values())})"
   ]
  },
  {
   "cell_type": "code",
   "execution_count": null,
   "metadata": {},
   "outputs": [],
   "source": [
    "print(f\"The network consists of {nx.number_of_nodes(G)} nodes and {nx.number_of_edges(G)} edges.\")"
   ]
  },
  {
   "cell_type": "markdown",
   "metadata": {},
   "source": [
    "# Plotting network"
   ]
  },
  {
   "cell_type": "code",
   "execution_count": null,
   "metadata": {},
   "outputs": [],
   "source": [
    "colors, pos = set_generic_node_attributes(G, 'genre', scaling=0.1, grav=10, log=False,  n_f2_iter=2000)"
   ]
  },
  {
   "cell_type": "code",
   "execution_count": null,
   "metadata": {},
   "outputs": [],
   "source": [
    "edge_trace = edges_to_plot(G, pos)"
   ]
  },
  {
   "cell_type": "code",
   "execution_count": null,
   "metadata": {},
   "outputs": [],
   "source": [
    "degree_node_trace = nodes_to_plot(G, 'Degree', colors, pos)\n",
    "G_degree = make_fig(edge_trace, degree_node_trace, 'Network with nodesize <br>proportional to degree')"
   ]
  },
  {
   "cell_type": "code",
   "execution_count": null,
   "metadata": {},
   "outputs": [],
   "source": [
    "py.offline.plot(G_degree, filename = 'Plots/G_degree.html', auto_open=False)"
   ]
  },
  {
   "cell_type": "code",
   "execution_count": null,
   "metadata": {},
   "outputs": [],
   "source": [
    "between_node_trace = nodes_to_plot(G, 'Betweenness_centrality', colors, pos)\n",
    "G_between = make_fig(edge_trace, between_node_trace, 'Network with nodesize <br>proportional to betweenness-centrality')"
   ]
  },
  {
   "cell_type": "code",
   "execution_count": null,
   "metadata": {},
   "outputs": [],
   "source": [
    "py.offline.plot(G_between, filename = 'Plots/G_between.html', auto_open=False)"
   ]
  },
  {
   "cell_type": "code",
   "execution_count": null,
   "metadata": {},
   "outputs": [],
   "source": [
    "eigen_node_trace = nodes_to_plot(G, 'Eigenvector_centrality', colors, pos)\n",
    "G_eigen = make_fig(edge_trace, eigen_node_trace, 'Network with nodesize <br>proportional to eigenvector-centrality')"
   ]
  },
  {
   "cell_type": "code",
   "execution_count": null,
   "metadata": {},
   "outputs": [],
   "source": [
    "py.offline.plot(G_eigen, filename = 'Plots/G_eigen.html', auto_open=False)"
   ]
  },
  {
   "cell_type": "code",
   "execution_count": 11,
   "metadata": {},
   "outputs": [
    {
     "name": "stdout",
     "output_type": "stream",
     "text": [
      "Excluding the 19 nodes with highest indegree and removing nodes left without edges, results en a subnetwork with 1687 nodes and 6692 edges.\n"
     ]
    }
   ],
   "source": [
    "n_removed = int(G.number_of_nodes()/100)\n",
    "G_new = remove_nodes_based_on_degree(G, n_top=n_removed)\n",
    "print(f\"Excluding the {n_removed} nodes with highest indegree and removing nodes left without edges, results en a \\\n",
    "subnetwork with {nx.number_of_nodes(G_new)} nodes and {nx.number_of_edges(G_new)} edges.\")"
   ]
  },
  {
   "cell_type": "code",
   "execution_count": 12,
   "metadata": {},
   "outputs": [],
   "source": [
    "colors_new, pos_new = set_generic_node_attributes(G_new, 'genre', scaling=0.1, grav=10, log=False,  n_f2_iter=2000)"
   ]
  },
  {
   "cell_type": "code",
   "execution_count": 15,
   "metadata": {},
   "outputs": [],
   "source": [
    "edge_trace_new = edges_to_plot(G_new, pos_new)"
   ]
  },
  {
   "cell_type": "code",
   "execution_count": 28,
   "metadata": {},
   "outputs": [
    {
     "name": "stdout",
     "output_type": "stream",
     "text": [
      "Getting node coordinates\n",
      "Setting hover text for nodes\n",
      "Creating figure\n"
     ]
    }
   ],
   "source": [
    "node_trace_new = nodes_to_plot(G_new, 'Degree', colors_new, pos_new, for_community=True)\n",
    "G_degree_new = make_fig(edge_trace_new, node_trace_new, 'Sub-Network with nodesize <br>proportional to degree')"
   ]
  },
  {
   "cell_type": "code",
   "execution_count": 29,
   "metadata": {},
   "outputs": [
    {
     "data": {
      "text/plain": [
       "'Plots/G_degree_new.html'"
      ]
     },
     "execution_count": 29,
     "metadata": {},
     "output_type": "execute_result"
    }
   ],
   "source": [
    "py.offline.plot(G_degree_new, filename = 'Plots/G_degree_new.html', auto_open=True)"
   ]
  },
  {
   "cell_type": "markdown",
   "metadata": {},
   "source": [
    "# Functions"
   ]
  },
  {
   "cell_type": "code",
   "execution_count": 3,
   "metadata": {},
   "outputs": [],
   "source": [
    "def set_generic_node_attributes(G, color_by, scaling=1, grav=1, log=False,  n_f2_iter=2000):\n",
    "    '''\n",
    "    Function to get colors given a given group, and initialise the Force Atalas algorithm. \n",
    "    \n",
    "    Parameters:\n",
    "    G: networkx graph with attribute color_by\n",
    "    color_by: attribute in graph G that graph should be colored by\n",
    "    scaling: hyperparameter for Force Atlas algorithm. By default set to 1\n",
    "    grav: gravity hyperparameter for Force Atlas algorithm. By default set to 1\n",
    "    log: if True progress bar of tuning of Force Atlas will be displayed\n",
    "    n_f2_iter: number of iterations for Force Atlas algorithm. By default set to 2000\n",
    "    \n",
    "    Return:\n",
    "    colors: map for color of node in graph\n",
    "    pos: positions for nodes in graph\n",
    "    '''\n",
    "    \n",
    "    # Getting mapping of colors for nodes to seperate on genre:\n",
    "    groups = set(nx.get_node_attributes(G,color_by).values())\n",
    "    colors_tmp = list(pltcolors._colors_full_map.values())[0:len(groups)]\n",
    "    cmap = dict(zip(groups, colors_tmp))\n",
    "    nodes = G.nodes()\n",
    "    colors = [cmap.get(G.node[n][color_by]) for n in nodes]\n",
    "\n",
    "    #Defining positions using Force Atlas algorithm\n",
    "    forceatlas2 = ForceAtlas2(\n",
    "                        # Behavior alternatives\n",
    "                        outboundAttractionDistribution=True,  # Dissuade hubs\n",
    "                        linLogMode=False,  # NOT IMPLEMENTED\n",
    "                        adjustSizes=False,  # Prevent overlap (NOT IMPLEMENTED)\n",
    "                        edgeWeightInfluence=1.0,\n",
    "\n",
    "                        # Performance\n",
    "                        jitterTolerance=1.0,  # Tolerance\n",
    "                        barnesHutOptimize=True,\n",
    "                        barnesHutTheta=1.2,\n",
    "                        multiThreaded=False,  # NOT IMPLEMENTED\n",
    "\n",
    "                        # Tuning\n",
    "                        scalingRatio=scaling,\n",
    "                        strongGravityMode=False,\n",
    "                        gravity=grav,\n",
    "\n",
    "                        # Log\n",
    "                        verbose=log)\n",
    "    \n",
    "    pos = forceatlas2.forceatlas2_networkx_layout(G, pos=None, iterations=n_f2_iter)\n",
    "    \n",
    "    return colors, pos"
   ]
  },
  {
   "cell_type": "code",
   "execution_count": 4,
   "metadata": {},
   "outputs": [],
   "source": [
    "def make_plot(G, d_measure, title, colors = 0):\n",
    "    '''\n",
    "    Function generating an interactive plot of network.\n",
    "    \n",
    "    INPUT:\n",
    "    - G: Graph as networkx graph\n",
    "    - d_measure: Measure defining size of nodes as string (possible values: 'Degree', 'Betweenness_centrality', 'Eigenvector_centrality')\n",
    "    - title: Title on plot as string\n",
    "    - Colors: Mapping of colors (Should not be set )\n",
    "    '''\n",
    "    \n",
    "    \n",
    "    \n",
    "    if d_measure == 'Degree':\n",
    "        add = 50\n",
    "        scale = 80\n",
    "    elif d_measure == 'Betweenness_centrality':\n",
    "        add = 0.001\n",
    "        scale = 100 \n",
    "    else:\n",
    "        add = 0\n",
    "        scale = 25\n",
    "    \n",
    "    # Get coordinates of edges\n",
    "    print(\"Getting edge coordinates\")\n",
    "    edge_trace = go.Scatter(\n",
    "    x=[],\n",
    "    y=[],\n",
    "    line=dict(width=0.5,color='#888'),\n",
    "    hoverinfo='none',\n",
    "    mode='lines')\n",
    "    for edge in G.edges():\n",
    "        x0, y0 = pos.get(edge[0])\n",
    "        x1, y1 = pos.get(edge[1])\n",
    "        edge_trace['x'] += tuple([x0, x1, None])\n",
    "        edge_trace['y'] += tuple([y0, y1, None])\n",
    "    \n",
    "    #Get coordinates of nodes\n",
    "    print(\"Getting node coordinates\")\n",
    "    node_trace = go.Scatter(\n",
    "    x=[],\n",
    "    y=[],\n",
    "    text=[],\n",
    "    mode='markers',\n",
    "    hoverinfo='text',\n",
    "    marker=dict(\n",
    "        showscale=False,\n",
    "        colorscale='YlGnBu',\n",
    "        reversescale=True,\n",
    "        color=colors,\n",
    "        size=((total[d_measure]+add)/total[d_measure].max())*scale,\n",
    "        line=dict(width=2)))\n",
    "    for node in G.nodes():\n",
    "        x, y = pos.get(node)\n",
    "        node_trace['x'] += tuple([x])\n",
    "        node_trace['y'] += tuple([y])\n",
    "    \n",
    "    # Get hover text for nodes\n",
    "    print(\"Setting hover text for nodes\")\n",
    "    for node, adjacencies in enumerate(G.adjacency()):\n",
    "        node_info = 'Name: ' + str(adjacencies[0]) + '<br># of ingoing connections: '+str(len(adjacencies[1]))\n",
    "        node_trace['text']+=tuple([node_info])\n",
    "    \n",
    "    # Create figures\n",
    "    print(\"Creating figure\")\n",
    "    fig = go.Figure(data=[edge_trace, node_trace],\n",
    "             layout=go.Layout(\n",
    "                title=title,\n",
    "                titlefont=dict(size=20),\n",
    "                showlegend=False,\n",
    "                hovermode='closest',\n",
    "                margin=dict(b=20,l=5,r=5,t=40),\n",
    "                annotations=[ dict(\n",
    "                    showarrow=False,\n",
    "                    xref=\"paper\", yref=\"paper\",\n",
    "                    x=0.005, y=-0.002 ) ],\n",
    "                xaxis=dict(showgrid=False, zeroline=False, showticklabels=False),\n",
    "                yaxis=dict(showgrid=False, zeroline=False, showticklabels=False),\n",
    "                plot_bgcolor = 'white'))\n",
    "    return fig"
   ]
  },
  {
   "cell_type": "code",
   "execution_count": 5,
   "metadata": {},
   "outputs": [],
   "source": [
    "def edges_to_plot(G, pos):\n",
    "    '''Function that gets the position for all the edges'''\n",
    "    edge_trace = go.Scatter(\n",
    "    x=[],\n",
    "    y=[],\n",
    "    line=dict(width=0.5,color='#888'),\n",
    "    hoverinfo='none',\n",
    "    mode='lines')\n",
    "    for edge in G.edges():\n",
    "        x0, y0 = pos.get(edge[0])\n",
    "        x1, y1 = pos.get(edge[1])\n",
    "        edge_trace['x'] += tuple([x0, x1, None])\n",
    "        edge_trace['y'] += tuple([y0, y1, None])\n",
    "    return edge_trace"
   ]
  },
  {
   "cell_type": "code",
   "execution_count": 27,
   "metadata": {},
   "outputs": [],
   "source": [
    "def nodes_to_plot(G, d_measure, colors, pos, for_community=False):\n",
    "    '''Function that gets the position for all the nodes and adds hover text'''\n",
    "    if d_measure == 'Degree':\n",
    "        add = 50\n",
    "        scale = 80\n",
    "    elif d_measure == 'Betweenness_centrality':\n",
    "        add = 0.001\n",
    "        scale = 100 \n",
    "    else:\n",
    "        add = 0\n",
    "        scale = 25\n",
    "        \n",
    "    #Get coordinates of nodes\n",
    "    print(\"Getting node coordinates\")\n",
    "    node_trace = go.Scatter(\n",
    "    x=[],\n",
    "    y=[],\n",
    "    text=[],\n",
    "    mode='markers',\n",
    "    hoverinfo='text',\n",
    "    marker=dict(\n",
    "        showscale=False,\n",
    "        colorscale='YlGnBu',\n",
    "        reversescale=True,\n",
    "        color=colors,\n",
    "        size=((total[d_measure]+add)/total[d_measure].max())*scale,\n",
    "        line=dict(width=2)))\n",
    "    for node in G.nodes():\n",
    "        x, y = pos.get(node)\n",
    "        node_trace['x'] += tuple([x])\n",
    "        node_trace['y'] += tuple([y])\n",
    "    \n",
    "    # Get hover text for nodes\n",
    "    print(\"Setting hover text for nodes\")\n",
    "    genres = nx.get_node_attributes(G, 'genre')\n",
    "    for node, adjacencies in enumerate(G.adjacency()):\n",
    "        if for_community:\n",
    "            node_info = 'Name: ' + str(adjacencies[0]) + '<br>Genre: ' + genres[str(adjacencies[0])]\n",
    "        else:\n",
    "            node_info = 'Name: ' + str(adjacencies[0]) + '<br># of ingoing connections: '+str(len(adjacencies[1]))\n",
    "        node_trace['text']+=tuple([node_info])\n",
    "    \n",
    "    return node_trace"
   ]
  },
  {
   "cell_type": "code",
   "execution_count": 7,
   "metadata": {},
   "outputs": [],
   "source": [
    "def make_fig(edge_trace, node_trace, title):\n",
    "    '''Function that creates a figure based on edge- and node-trace'''\n",
    "    # Create figures\n",
    "    print(\"Creating figure\")\n",
    "    fig = go.Figure(data=[edge_trace, node_trace],\n",
    "             layout=go.Layout(\n",
    "                title=title,\n",
    "                titlefont=dict(size=20),\n",
    "                showlegend=False,\n",
    "                hovermode='closest',\n",
    "                margin=dict(b=20,l=5,r=5,t=40),\n",
    "                annotations=[ dict(\n",
    "                    showarrow=False,\n",
    "                    xref=\"paper\", yref=\"paper\",\n",
    "                    x=0.005, y=-0.002 ) ],\n",
    "                xaxis=dict(showgrid=False, zeroline=False, showticklabels=False),\n",
    "                yaxis=dict(showgrid=False, zeroline=False, showticklabels=False),\n",
    "                plot_bgcolor = 'white'))\n",
    "    return fig"
   ]
  },
  {
   "cell_type": "code",
   "execution_count": 8,
   "metadata": {},
   "outputs": [],
   "source": [
    "def make_fig2(node_trace, title):\n",
    "    '''Function that creates a figure based on node-trace (note there is no edges in this figure)'''\n",
    "    # Create figures\n",
    "    print(\"Creating figure\")\n",
    "    fig = go.Figure(data=[node_trace],\n",
    "             layout=go.Layout(\n",
    "                title=title,\n",
    "                titlefont=dict(size=20),\n",
    "                showlegend=False,\n",
    "                hovermode='closest',\n",
    "                margin=dict(b=20,l=5,r=5,t=40),\n",
    "                annotations=[ dict(\n",
    "                    showarrow=False,\n",
    "                    xref=\"paper\", yref=\"paper\",\n",
    "                    x=0.005, y=-0.002 ) ],\n",
    "                xaxis=dict(showgrid=False, zeroline=False, showticklabels=False),\n",
    "                yaxis=dict(showgrid=False, zeroline=False, showticklabels=False),\n",
    "                plot_bgcolor = 'white'))\n",
    "    return fig"
   ]
  },
  {
   "cell_type": "code",
   "execution_count": 9,
   "metadata": {},
   "outputs": [],
   "source": [
    "def remove_nodes_based_on_degree(G, n_top):\n",
    "    ''' Function that removes the top n nodes based on degree and further removes the nodes\n",
    "    that are left with no edges \n",
    "    \n",
    "    Parameters:\n",
    "    G: networkx graph \n",
    "    n_top: Number of nodes that should be removed. By default set to 7\n",
    "    \n",
    "    Return:\n",
    "    G: networkx graph\n",
    "    '''\n",
    "    \n",
    "    Degree_top1pct = pd.DataFrame(list(sorted(G.degree, key=lambda x: x[1], reverse=True)),\n",
    "                                  columns = (\"Name\", \"Degree\")).iloc[n_top][\"Degree\"]\n",
    "    remove_top = [node for node,degree in G.degree if degree >= Degree_top1pct]\n",
    "    G.remove_nodes_from(remove_top)\n",
    "    remove_0 = [node for node,degree in G.degree if degree == 0]\n",
    "    G.remove_nodes_from(remove_0 )\n",
    "    \n",
    "    return G"
   ]
  }
 ],
 "metadata": {
  "kernelspec": {
   "display_name": "Python 3",
   "language": "python",
   "name": "python3"
  },
  "language_info": {
   "codemirror_mode": {
    "name": "ipython",
    "version": 3
   },
   "file_extension": ".py",
   "mimetype": "text/x-python",
   "name": "python",
   "nbconvert_exporter": "python",
   "pygments_lexer": "ipython3",
   "version": "3.7.1"
  }
 },
 "nbformat": 4,
 "nbformat_minor": 2
}
