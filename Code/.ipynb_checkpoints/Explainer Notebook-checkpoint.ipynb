{
 "cells": [
  {
   "cell_type": "code",
   "execution_count": 8,
   "metadata": {},
   "outputs": [],
   "source": [
    "#Importing necessary packages\n",
    "import pandas as pd\n",
    "import networkx as nx\n",
    "import collections\n",
    "import matplotlib.pyplot as plt\n",
    "%matplotlib inline\n",
    "import plotly.graph_objs as go\n",
    "import plotly as py\n",
    "import operator\n",
    "from fa2 import ForceAtlas2\n",
    "import matplotlib.colors as pltcolors\n",
    "from community import community_louvain\n",
    "import seaborn as sns\n",
    "import re\n",
    "import nltk\n",
    "from nltk.tokenize import RegexpTokenizer\n",
    "from wordcloud import WordCloud\n",
    "import string\n",
    "import numpy as np\n",
    "import math"
   ]
  },
  {
   "cell_type": "markdown",
   "metadata": {},
   "source": [
    "# Explainer Notebook for final project in Social Graphs and Interactions"
   ]
  },
  {
   "cell_type": "markdown",
   "metadata": {},
   "source": [
    "This notebook aims to explain all steps an calculations used for the final project in Social Graphs and Interactions (02805). The notebook has 4 main sections including the motivation behind the project, some basic stats to understand the dataset, the main analysis and finally a discussion about the findings. Please use the table of content below to navigate to the various sections."
   ]
  },
  {
   "cell_type": "markdown",
   "metadata": {},
   "source": [
    "## Table of Content\n",
    "* [Motivation](#motivation)\n",
    "* [Basic Stats](#basic-stats)\n",
    "* [Analysis](#analysis)\n",
    "* [Discussion](#discussion)\n",
    "* [Helper Functions](#help)"
   ]
  },
  {
   "cell_type": "markdown",
   "metadata": {},
   "source": [
    "## Motivation <a class=\"anchor\" id=\"motivation\"></a>"
   ]
  },
  {
   "cell_type": "markdown",
   "metadata": {},
   "source": [
    "This project is investigating a network of books. We want to explore how one books is related with the books that are recommended on the books site on Goodreads, an online database of books. The objective is to investigate if the list of recommendations on highly popular books creates a network, where for example the same book are recommended all the time making them highly influential in the literary society. Another outcome could be that books are mainly recommended other books within the same genre, which could limit readers to one sub-category of books. Or maybe no patterns are found at all. \n",
    "In addition to investigating the relationsship between books, we investigate how correlated a books rating is, with the sentiment score of the book reviews. A hypothesis is that highly rating books will have a higher sentiment score in the reviews than a poorly rated book will. \n",
    "The network analysis and sentiment analysis will be tied together when investigating whether the influential nodes in the notebook are also some of the books with highest rating/sentiment or if it is something else that drives the high degree nodes. \n",
    "\n",
    "**The Dataset**\n",
    "\n",
    "The information about the books are as mentioned taken from Goodreads. Goodreads has been chosen as it holds information about almost every book and therefore creates a good platform to generate uniform data across the list of books. Goodreads also contains reviews of each book, which are crucial for second part of the analysis. \n",
    "\n",
    "The books chosen for the network are taken from the list [\"Books Everyone Should Read At Least Once\"](https://www.goodreads.com/list/show/264.Books_That_Everyone_Should_Read_At_Least_Once) referred to throughout this project as positive books. The list contains 21.618 books. To create the sentiment analysis poorly rated books were also necessary, and they were obtained from [Worst Rated Books on Goodreads](https://www.goodreads.com/list/show/23974.Worst_Rated_Books_on_Goodreads) referred to as negative books. This list contains 416 books. \n",
    "\n",
    "Information about each book was obtained by scraping the website. Acquiring the information through scraping was very slow and a time limitation forced us to chose a finite number of books from the list of positive books. To decide the exact number we took our offset in the motivation namely how one person should decide what books they should read. The chosen number of books therefore became an estimate of how many books an average person reads in a lifetime. The number is set quite high but data is also essential to create a meaningful network. We have scraped 764 books from the positive list and and all 416 from the negative list. \n",
    "\n",
    "The following information about each book was acquired:\n",
    "* Title\n",
    "* Author\n",
    "* Genre\n",
    "* Rating\n",
    "* Rating count (how many ratings a book has)\n",
    "* List of recommended books\n",
    "* Top 15 reviews of book\n",
    "\n",
    "Our hope for the results of this analysis is for the reader to gain a better understanding of why some books are recommended often while others are never recommended even though they may have a high rating. Furter, the reader should see how well a sentiment score can be used to categorize book reviews.  "
   ]
  },
  {
   "cell_type": "markdown",
   "metadata": {},
   "source": [
    "## Basic Stats <a class=\"anchor\" id=\"basic-stats\"></a>"
   ]
  },
  {
   "cell_type": "markdown",
   "metadata": {},
   "source": [
    "This section give a brief introduction to the dataset. All information scraped for the books are saved in cvs files found [here](insert_link) OBS. The code below manages reading the information into a dataframe and exploring the entries. "
   ]
  },
  {
   "cell_type": "code",
   "execution_count": 9,
   "metadata": {},
   "outputs": [],
   "source": [
    "# Reading the list of books as dataframe\n",
    "pos_books = pd.read_pickle(\"books.pcl\")"
   ]
  },
  {
   "cell_type": "code",
   "execution_count": 10,
   "metadata": {},
   "outputs": [
    {
     "data": {
      "text/html": [
       "<div>\n",
       "<style scoped>\n",
       "    .dataframe tbody tr th:only-of-type {\n",
       "        vertical-align: middle;\n",
       "    }\n",
       "\n",
       "    .dataframe tbody tr th {\n",
       "        vertical-align: top;\n",
       "    }\n",
       "\n",
       "    .dataframe thead th {\n",
       "        text-align: right;\n",
       "    }\n",
       "</style>\n",
       "<table border=\"1\" class=\"dataframe\">\n",
       "  <thead>\n",
       "    <tr style=\"text-align: right;\">\n",
       "      <th></th>\n",
       "      <th>title</th>\n",
       "      <th>author</th>\n",
       "      <th>genre</th>\n",
       "      <th>rating</th>\n",
       "      <th>rating_count</th>\n",
       "      <th>related</th>\n",
       "      <th>review</th>\n",
       "    </tr>\n",
       "  </thead>\n",
       "  <tbody>\n",
       "    <tr>\n",
       "      <td>0</td>\n",
       "      <td>To Kill a Mockingbird</td>\n",
       "      <td>Harper Lee</td>\n",
       "      <td>Classics</td>\n",
       "      <td>4.27</td>\n",
       "      <td>4058926</td>\n",
       "      <td>[Harry Potter and the Deathly Hallows, Lord of...</td>\n",
       "      <td>[[\\n           \\n           Why is it when I p...</td>\n",
       "    </tr>\n",
       "    <tr>\n",
       "      <td>1</td>\n",
       "      <td>Harry Potter and the Sorcerer's Stone</td>\n",
       "      <td>J.K. Rowling</td>\n",
       "      <td>Fantasy</td>\n",
       "      <td>4.47</td>\n",
       "      <td>6186514</td>\n",
       "      <td>[Lord of the Flies, A Wrinkle in Time, Speak, ...</td>\n",
       "      <td>[[\\n\\n \\nUPDATE OCTOBER 2019\\nShould I try to ...</td>\n",
       "    </tr>\n",
       "    <tr>\n",
       "      <td>2</td>\n",
       "      <td>Pride and Prejudice</td>\n",
       "      <td>Jane Austen</td>\n",
       "      <td>Classics</td>\n",
       "      <td>4.25</td>\n",
       "      <td>2662196</td>\n",
       "      <td>[Harry Potter and the Deathly Hallows, Lord of...</td>\n",
       "      <td>[[\\n           \\n           6.0 stars. Confess...</td>\n",
       "    </tr>\n",
       "    <tr>\n",
       "      <td>3</td>\n",
       "      <td>The Diary of a Young Girl</td>\n",
       "      <td>Anne Frank</td>\n",
       "      <td>Nonfiction</td>\n",
       "      <td>4.13</td>\n",
       "      <td>2474246</td>\n",
       "      <td>[Lord of the Flies, Harry Potter and the Death...</td>\n",
       "      <td>[[\\nWhy do we write reviews?You have a lot of ...</td>\n",
       "    </tr>\n",
       "    <tr>\n",
       "      <td>4</td>\n",
       "      <td>1984</td>\n",
       "      <td>George Orwell</td>\n",
       "      <td>Classics</td>\n",
       "      <td>4.17</td>\n",
       "      <td>2711604</td>\n",
       "      <td>[Lord of the Flies, Harry Potter and the Death...</td>\n",
       "      <td>[[\\nThis book is far from perfect. Its charact...</td>\n",
       "    </tr>\n",
       "  </tbody>\n",
       "</table>\n",
       "</div>"
      ],
      "text/plain": [
       "                                   title         author       genre  rating  \\\n",
       "0                  To Kill a Mockingbird     Harper Lee    Classics    4.27   \n",
       "1  Harry Potter and the Sorcerer's Stone   J.K. Rowling     Fantasy    4.47   \n",
       "2                    Pride and Prejudice    Jane Austen    Classics    4.25   \n",
       "3              The Diary of a Young Girl     Anne Frank  Nonfiction    4.13   \n",
       "4                                   1984  George Orwell    Classics    4.17   \n",
       "\n",
       "   rating_count                                            related  \\\n",
       "0       4058926  [Harry Potter and the Deathly Hallows, Lord of...   \n",
       "1       6186514  [Lord of the Flies, A Wrinkle in Time, Speak, ...   \n",
       "2       2662196  [Harry Potter and the Deathly Hallows, Lord of...   \n",
       "3       2474246  [Lord of the Flies, Harry Potter and the Death...   \n",
       "4       2711604  [Lord of the Flies, Harry Potter and the Death...   \n",
       "\n",
       "                                              review  \n",
       "0  [[\\n           \\n           Why is it when I p...  \n",
       "1  [[\\n\\n \\nUPDATE OCTOBER 2019\\nShould I try to ...  \n",
       "2  [[\\n           \\n           6.0 stars. Confess...  \n",
       "3  [[\\nWhy do we write reviews?You have a lot of ...  \n",
       "4  [[\\nThis book is far from perfect. Its charact...  "
      ]
     },
     "execution_count": 10,
     "metadata": {},
     "output_type": "execute_result"
    }
   ],
   "source": [
    "# Printing the first 5 entries of the dataframe\n",
    "pos_books.head()"
   ]
  },
  {
   "cell_type": "code",
   "execution_count": 11,
   "metadata": {},
   "outputs": [
    {
     "data": {
      "text/markdown": [
       "**Statistics about the ratings:**"
      ],
      "text/plain": [
       "<IPython.core.display.Markdown object>"
      ]
     },
     "metadata": {},
     "output_type": "display_data"
    },
    {
     "name": "stdout",
     "output_type": "stream",
     "text": [
      "The book with the highest rating is Harry Potter Series Box Setwith a rating of 4.74\n",
      "The book with the lowest rating is The Scarlet Letterwith a rating of 3.39\n",
      "The average rating of the books are 4.07\n",
      "\n"
     ]
    },
    {
     "data": {
      "text/markdown": [
       "**Statistics about the rating count:**"
      ],
      "text/plain": [
       "<IPython.core.display.Markdown object>"
      ]
     },
     "metadata": {},
     "output_type": "display_data"
    },
    {
     "name": "stdout",
     "output_type": "stream",
     "text": [
      "The book with the highest rating count is Harry Potter and the Sorcerer's Stonewith a rating count of 6,186,514\n",
      "The book with the lowest rating count is Destiny of the Vampirewith a rating count of 55\n",
      "The average rating count of the books are 391,762.05\n"
     ]
    }
   ],
   "source": [
    "printmd(\"**Statistics about the ratings:**\")\n",
    "print(f\"The book with the highest rating is {pos_books.title[pos_books.rating.idxmax()]}\\\n",
    "with a rating of {pos_books.rating.max()}\")\n",
    "print(f\"The book with the lowest rating is {pos_books.title[pos_books.rating.idxmin()]}\\\n",
    "with a rating of {pos_books.rating.min()}\")\n",
    "print(f\"The average rating of the books are {pos_books.rating.mean():.2f}\")\n",
    "print()\n",
    "printmd(\"**Statistics about the rating count:**\")\n",
    "print(f\"The book with the highest rating count is {pos_books.title[pos_books.rating_count.idxmax()]}\\\n",
    "with a rating count of {pos_books.rating_count.max():,}\")\n",
    "print(f\"The book with the lowest rating count is {pos_books.title[pos_books.rating_count.idxmin()]}\\\n",
    "with a rating count of {pos_books.rating_count.min():,}\")\n",
    "print(f\"The average rating count of the books are {pos_books.rating_count.mean():,.2f}\")"
   ]
  },
  {
   "cell_type": "markdown",
   "metadata": {},
   "source": [
    "**Statistics about genre**\n",
    "\n",
    "Next the count of entries for each genre is investigated. As seen in the output below most of the books fall into a few genres, whereas a large number of genres is only represented by 1 book. Therefore, we kept the top 10 genres and grouped the remaining into a new category called \"Miscellaneous\".  "
   ]
  },
  {
   "cell_type": "code",
   "execution_count": 12,
   "metadata": {},
   "outputs": [
    {
     "data": {
      "text/plain": [
       "genre\n",
       "Fiction              184\n",
       "Classics             180\n",
       "Nonfiction            76\n",
       "Fantasy               74\n",
       "Young Adult           40\n",
       "Historical            32\n",
       "Science Fiction       24\n",
       "Childrens             22\n",
       "Horror                18\n",
       "History               14\n",
       "Poetry                11\n",
       "Philosophy             9\n",
       "Religion               7\n",
       "Sequential Art         7\n",
       "Contemporary           6\n",
       "Romance                6\n",
       "Plays                  5\n",
       "Mystery                5\n",
       "Science                4\n",
       "Self Help              4\n",
       "Psychology             4\n",
       "Christian              3\n",
       "Thriller               3\n",
       "Biography              2\n",
       "Feminism               2\n",
       "Drama                  2\n",
       "Short Stories          2\n",
       "Humor                  1\n",
       "Autobiography          1\n",
       "Book Club              1\n",
       "Business               1\n",
       "Spirituality           1\n",
       "Christian Fiction      1\n",
       "Cultural               1\n",
       "Crime                  1\n",
       "Economics              1\n",
       "Paranormal             1\n",
       "Realistic Fiction      1\n",
       "Food and Drink         1\n",
       "Marriage               1\n",
       "Language               1\n",
       "Holiday                1\n",
       "Adventure              1\n",
       "Name: genre, dtype: int64"
      ]
     },
     "execution_count": 12,
     "metadata": {},
     "output_type": "execute_result"
    }
   ],
   "source": [
    "pos_books.groupby(\"genre\")[\"genre\"].count().sort_values(ascending=False)"
   ]
  },
  {
   "cell_type": "code",
   "execution_count": 13,
   "metadata": {},
   "outputs": [],
   "source": [
    "# Taking only the top 10 genres and grouping the remaining \n",
    "genres_accepted = pos_books.groupby(\"genre\")['genre'].count().sort_values(ascending=False)[0:10]\n",
    "pos_books.loc[~pos_books.genre.apply(lambda x: x in list(genres_accepted.index)), 'genre'] = \"Miscellaneous\""
   ]
  },
  {
   "cell_type": "code",
   "execution_count": 14,
   "metadata": {},
   "outputs": [
    {
     "data": {
      "text/plain": [
       "genre\n",
       "Fiction            184\n",
       "Classics           180\n",
       "Miscellaneous       98\n",
       "Nonfiction          76\n",
       "Fantasy             74\n",
       "Young Adult         40\n",
       "Historical          32\n",
       "Science Fiction     24\n",
       "Childrens           22\n",
       "Horror              18\n",
       "History             14\n",
       "Name: genre, dtype: int64"
      ]
     },
     "execution_count": 14,
     "metadata": {},
     "output_type": "execute_result"
    }
   ],
   "source": [
    "pos_books.groupby(\"genre\")[\"genre\"].count().sort_values(ascending=False)"
   ]
  },
  {
   "cell_type": "markdown",
   "metadata": {},
   "source": [
    "**Statistics about reviews**\n",
    "\n",
    "Next we are investigating the reviews for each book. Note reviews for all positive books has not been obtained. Getting the reviews were by far the most time consuming part of the scraping and to have a more homogeneous dataset when comparing with the negative books, only reviews for the first 444 books has been obtained. "
   ]
  },
  {
   "cell_type": "code",
   "execution_count": 15,
   "metadata": {},
   "outputs": [
    {
     "name": "stdout",
     "output_type": "stream",
     "text": [
      "The number of books with acquired reviews are 445.\n"
     ]
    }
   ],
   "source": [
    "books_reviewed = pos_books[pos_books.review.notna()].reset_index(drop=True)\n",
    "print(f\"The number of books with acquired reviews are {len(books_reviewed)}.\")"
   ]
  },
  {
   "cell_type": "code",
   "execution_count": 16,
   "metadata": {},
   "outputs": [],
   "source": [
    "tokenizer = RegexpTokenizer(r\"\\w+\")\n",
    "\n",
    "tokens_count_list = []\n",
    "for j in range(len(books_reviewed)):\n",
    "    tokens_count = 0\n",
    "    for i in range(len(books_reviewed.review[j][0])):\n",
    "        tokens = tokenizer.tokenize(books_reviewed.review[j][0][i])\n",
    "        tokens_count += len(tokens)\n",
    "    tokens_count_list.append(tokens_count)\n"
   ]
  },
  {
   "cell_type": "code",
   "execution_count": 17,
   "metadata": {},
   "outputs": [],
   "source": [
    "books_reviewed = pd.concat([books_reviewed, pd.Series(tokens_count_list, name = \"Token_count\")], axis=1)"
   ]
  },
  {
   "cell_type": "code",
   "execution_count": 23,
   "metadata": {},
   "outputs": [
    {
     "name": "stdout",
     "output_type": "stream",
     "text": [
      "The book with the longest reviews is Cloud Atlas with a token count of 18724\n",
      "The book with the shortest reviews is Guess How Much I Love You with a token count of 1108\n",
      "The average token count for the reviews of the books are 6945.55\n"
     ]
    }
   ],
   "source": [
    "print(f\"The book with the longest reviews is {books_reviewed.title[books_reviewed.Token_count.idxmax()]} \\\n",
    "with a token count of {books_reviewed.Token_count.max()}\")\n",
    "print(f\"The book with the shortest reviews is {books_reviewed.title[books_reviewed.Token_count.idxmin()]} \\\n",
    "with a token count of {books_reviewed.Token_count.min()}\")\n",
    "print(f\"The average token count for the reviews of the books are {books_reviewed.Token_count.mean():.2f}\")"
   ]
  },
  {
   "cell_type": "markdown",
   "metadata": {},
   "source": [
    "## Analysis <a class=\"anchor\" id=\"analysis\"></a>"
   ]
  },
  {
   "cell_type": "markdown",
   "metadata": {},
   "source": [
    "First step is to create the graph representing the books. The graph is created as all the books on the list as nodes and with an edge to another book, if the node books is represented on the other books list of \"readers also enjoyed\" books."
   ]
  },
  {
   "cell_type": "code",
   "execution_count": 24,
   "metadata": {},
   "outputs": [],
   "source": [
    "# Generating directed graph\n",
    "G = nx.DiGraph()\n",
    "\n",
    "# Letting each node be a book from the positive list and adding rating and genre as attribute\n",
    "for i in range(len(pos_books)):\n",
    "    node = pos_books.iloc[i]\n",
    "    G.add_node(node['title'], rating = node['rating'], genre = node['genre'])"
   ]
  },
  {
   "cell_type": "code",
   "execution_count": 25,
   "metadata": {},
   "outputs": [],
   "source": [
    "# Creating edges from related books list to the books on the list\n",
    "for i in range(len(pos_books)):\n",
    "    node = pos_books.iloc[i]['title']\n",
    "    connections = []\n",
    "    for related in pos_books.iloc[i]['related']:\n",
    "        if len(pos_books[pos_books['title'] == related]) == 1 :\n",
    "            connections.append(related)\n",
    "    for con in connections:\n",
    "        G.add_edges_from([(con, node)])"
   ]
  },
  {
   "cell_type": "code",
   "execution_count": 26,
   "metadata": {},
   "outputs": [
    {
     "name": "stdout",
     "output_type": "stream",
     "text": [
      "The network consists of 759 nodes and 2935 edges.\n"
     ]
    }
   ],
   "source": [
    "print(f\"The network consists of {nx.number_of_nodes(G)} nodes and {nx.number_of_edges(G)} edges.\")"
   ]
  },
  {
   "cell_type": "markdown",
   "metadata": {},
   "source": [
    "With the network the degree distribution can be investigated. "
   ]
  },
  {
   "cell_type": "code",
   "execution_count": 73,
   "metadata": {},
   "outputs": [
    {
     "data": {
      "text/markdown": [
       "**Statistics about degree**"
      ],
      "text/plain": [
       "<IPython.core.display.Markdown object>"
      ]
     },
     "metadata": {},
     "output_type": "display_data"
    },
    {
     "name": "stdout",
     "output_type": "stream",
     "text": [
      "The node with the highest degree is Harry Potter and the Deathly Hallows with degree 527\n",
      "This means that Harry Potter and the Deathly Hallows is recommended for 69.16% of the books on the list\n",
      "The average degree is 7.73\n"
     ]
    }
   ],
   "source": [
    "printmd(\"**Statistics about degree**\")\n",
    "print(f\"The node with the highest degree is \\\n",
    "{list(dict(G.degree()).keys())[list(dict(G.degree()).values()).index(np.max(list(dict(G.degree()).values())))]} \\\n",
    "with degree {np.max(list(dict(G.degree()).values()))}\")\n",
    "print(f\"This means that \\\n",
    "{list(dict(G.degree()).keys())[list(dict(G.degree()).values()).index(np.max(list(dict(G.degree()).values())))]} \\\n",
    "is recommended for {np.max(list(dict(G.degree()).values()))/len(pos_books)*100:.2f}% of the books on the list\")\n",
    "print(f\"The average degree is {np.mean(list(dict(G.degree()).values())):.2f}\")"
   ]
  },
  {
   "cell_type": "code",
   "execution_count": 60,
   "metadata": {},
   "outputs": [],
   "source": [
    "# Getting unique degree and count of each for degree distribution\n",
    "degree_sequence = sorted([d for n, d in G.degree()], reverse=True)\n",
    "degreeCount = collections.Counter(degree_sequence)\n",
    "deg, cnt = zip(*degreeCount.items())"
   ]
  },
  {
   "cell_type": "code",
   "execution_count": 63,
   "metadata": {},
   "outputs": [
    {
     "data": {
      "image/png": "[encoded data removed]",
      "text/plain": [
       "<Figure size 1440x720 with 1 Axes>"
      ]
     },
     "metadata": {
      "needs_background": "light"
     },
     "output_type": "display_data"
    }
   ],
   "source": [
    "# Plotting degree distribution\n",
    "plt.figure(figsize = (20,10))\n",
    "plt.bar(deg, cnt, width=0.80, color='b')\n",
    "plt.title(\"Degree Distribution of the Positive Books Graph\", fontsize = 20)\n",
    "plt.xlabel(\"Degree\", fontsize = 20)\n",
    "plt.ylabel(\"Count\", fontsize = 20)\n",
    "\n",
    "plt.show()"
   ]
  },
  {
   "cell_type": "markdown",
   "metadata": {},
   "source": [
    "Looking at the degree distribution it is clear that few books have a very large degree while the majority of the books are have a degree under 20. This indicates that there are a few select books that gets recommended for almost every other book on the list. To investigate how central these books are for the graph the betweenness centrality and eigenvector centrality are found below. \n",
    "Betweenness centrality is a meassure of how many shortest paths passses through a given node. For our network a high betweenness centrality would indicate a gateway book, meaning if you read book A you may not be recommended book B, but you get recommended book C. Book C will then recommend you book B, and the only reason you read book B is therefore because you also read book C. This makes book C very influential. \n",
    "Eigenvector centrality is also an indicator for how influential a node is. A node gets a high score if its neighboring node also have a high score. This would for our network mean that having a high eigenvector centrality is equal to being recommended a lot and also recommended other highly recommended books. A book with high degree but low eigenvector centrality could therefore be a book that is recommended alot, but does not recommend popular book itself."
   ]
  },
  {
   "cell_type": "code",
   "execution_count": 75,
   "metadata": {},
   "outputs": [],
   "source": [
    "# We now look at the nodes with the highest degree and their centrality measures \n",
    "# and outputs the N (10) with the highest degree\n",
    "N = 10\n",
    "\n",
    "degree_sort = pd.DataFrame(list(sorted(G.degree, key=lambda x: x[1], reverse=True)), columns = (\"Name\", \"Degree\"))\n",
    "eigen_sort =   pd.DataFrame(list(sorted(nx.eigenvector_centrality(G).items(), key=operator.itemgetter(1), reverse=True)), columns = (\"Name\", \"Eigenvector centrality\"))\n",
    "between_sort = pd.DataFrame(list(sorted(nx.betweenness_centrality(G).items(), key=operator.itemgetter(1), reverse=True)), columns = (\"Name\", \"Betweenness centrality\"))\n",
    "sort = pd.merge(pd.merge(pd.merge(degree_sort,eigen_sort,on='Name'),between_sort,on='Name'), pos_books[['title', 'genre']], left_on = 'Name', right_on = 'title')\n",
    "sort = sort.drop(['title'], axis = 1)\n",
    "sort = sort.sort_values('Degree', ascending=False)"
   ]
  },
  {
   "cell_type": "code",
   "execution_count": 76,
   "metadata": {},
   "outputs": [
    {
     "data": {
      "text/html": [
       "<div>\n",
       "<style scoped>\n",
       "    .dataframe tbody tr th:only-of-type {\n",
       "        vertical-align: middle;\n",
       "    }\n",
       "\n",
       "    .dataframe tbody tr th {\n",
       "        vertical-align: top;\n",
       "    }\n",
       "\n",
       "    .dataframe thead th {\n",
       "        text-align: right;\n",
       "    }\n",
       "</style>\n",
       "<table border=\"1\" class=\"dataframe\">\n",
       "  <thead>\n",
       "    <tr style=\"text-align: right;\">\n",
       "      <th></th>\n",
       "      <th>Name</th>\n",
       "      <th>Degree</th>\n",
       "      <th>Eigenvector centrality</th>\n",
       "      <th>Betweenness centrality</th>\n",
       "      <th>genre</th>\n",
       "    </tr>\n",
       "  </thead>\n",
       "  <tbody>\n",
       "    <tr>\n",
       "      <td>0</td>\n",
       "      <td>Harry Potter and the Deathly Hallows</td>\n",
       "      <td>527</td>\n",
       "      <td>0.128418</td>\n",
       "      <td>0.016261</td>\n",
       "      <td>Fantasy</td>\n",
       "    </tr>\n",
       "    <tr>\n",
       "      <td>1</td>\n",
       "      <td>Lord of the Flies</td>\n",
       "      <td>513</td>\n",
       "      <td>0.063518</td>\n",
       "      <td>0.006911</td>\n",
       "      <td>Classics</td>\n",
       "    </tr>\n",
       "    <tr>\n",
       "      <td>2</td>\n",
       "      <td>The Handmaid's Tale</td>\n",
       "      <td>368</td>\n",
       "      <td>0.057762</td>\n",
       "      <td>0.001968</td>\n",
       "      <td>Fiction</td>\n",
       "    </tr>\n",
       "    <tr>\n",
       "      <td>3</td>\n",
       "      <td>A Wrinkle in Time</td>\n",
       "      <td>318</td>\n",
       "      <td>0.044879</td>\n",
       "      <td>0.000710</td>\n",
       "      <td>Fantasy</td>\n",
       "    </tr>\n",
       "    <tr>\n",
       "      <td>4</td>\n",
       "      <td>Anna Karenina</td>\n",
       "      <td>275</td>\n",
       "      <td>0.039885</td>\n",
       "      <td>0.000648</td>\n",
       "      <td>Classics</td>\n",
       "    </tr>\n",
       "    <tr>\n",
       "      <td>5</td>\n",
       "      <td>Speak</td>\n",
       "      <td>181</td>\n",
       "      <td>0.033436</td>\n",
       "      <td>0.000311</td>\n",
       "      <td>Young Adult</td>\n",
       "    </tr>\n",
       "    <tr>\n",
       "      <td>6</td>\n",
       "      <td>Watership Down</td>\n",
       "      <td>161</td>\n",
       "      <td>0.045556</td>\n",
       "      <td>0.000172</td>\n",
       "      <td>Classics</td>\n",
       "    </tr>\n",
       "    <tr>\n",
       "      <td>7</td>\n",
       "      <td>White Oleander</td>\n",
       "      <td>136</td>\n",
       "      <td>0.048316</td>\n",
       "      <td>0.001122</td>\n",
       "      <td>Fiction</td>\n",
       "    </tr>\n",
       "    <tr>\n",
       "      <td>8</td>\n",
       "      <td>His Dark Materials</td>\n",
       "      <td>69</td>\n",
       "      <td>0.054026</td>\n",
       "      <td>0.002154</td>\n",
       "      <td>Fantasy</td>\n",
       "    </tr>\n",
       "    <tr>\n",
       "      <td>9</td>\n",
       "      <td>2001: A Space Odyssey</td>\n",
       "      <td>32</td>\n",
       "      <td>0.034543</td>\n",
       "      <td>0.000049</td>\n",
       "      <td>Science Fiction</td>\n",
       "    </tr>\n",
       "  </tbody>\n",
       "</table>\n",
       "</div>"
      ],
      "text/plain": [
       "                                   Name  Degree  Eigenvector centrality  \\\n",
       "0  Harry Potter and the Deathly Hallows     527                0.128418   \n",
       "1                     Lord of the Flies     513                0.063518   \n",
       "2                   The Handmaid's Tale     368                0.057762   \n",
       "3                     A Wrinkle in Time     318                0.044879   \n",
       "4                         Anna Karenina     275                0.039885   \n",
       "5                                 Speak     181                0.033436   \n",
       "6                        Watership Down     161                0.045556   \n",
       "7                        White Oleander     136                0.048316   \n",
       "8                    His Dark Materials      69                0.054026   \n",
       "9                 2001: A Space Odyssey      32                0.034543   \n",
       "\n",
       "   Betweenness centrality            genre  \n",
       "0                0.016261          Fantasy  \n",
       "1                0.006911         Classics  \n",
       "2                0.001968          Fiction  \n",
       "3                0.000710          Fantasy  \n",
       "4                0.000648         Classics  \n",
       "5                0.000311      Young Adult  \n",
       "6                0.000172         Classics  \n",
       "7                0.001122          Fiction  \n",
       "8                0.002154          Fantasy  \n",
       "9                0.000049  Science Fiction  "
      ]
     },
     "execution_count": 76,
     "metadata": {},
     "output_type": "execute_result"
    }
   ],
   "source": [
    "# Displaying top 10 degree books\n",
    "sort[0:N]"
   ]
  },
  {
   "cell_type": "code",
   "execution_count": null,
   "metadata": {},
   "outputs": [],
   "source": []
  },
  {
   "cell_type": "code",
   "execution_count": null,
   "metadata": {},
   "outputs": [],
   "source": []
  },
  {
   "cell_type": "code",
   "execution_count": null,
   "metadata": {},
   "outputs": [],
   "source": []
  },
  {
   "cell_type": "code",
   "execution_count": null,
   "metadata": {},
   "outputs": [],
   "source": []
  },
  {
   "cell_type": "code",
   "execution_count": null,
   "metadata": {},
   "outputs": [],
   "source": []
  },
  {
   "cell_type": "code",
   "execution_count": null,
   "metadata": {},
   "outputs": [],
   "source": []
  },
  {
   "cell_type": "code",
   "execution_count": null,
   "metadata": {},
   "outputs": [],
   "source": []
  },
  {
   "cell_type": "code",
   "execution_count": null,
   "metadata": {},
   "outputs": [],
   "source": []
  },
  {
   "cell_type": "code",
   "execution_count": null,
   "metadata": {},
   "outputs": [],
   "source": []
  },
  {
   "cell_type": "code",
   "execution_count": null,
   "metadata": {},
   "outputs": [],
   "source": []
  },
  {
   "cell_type": "code",
   "execution_count": null,
   "metadata": {},
   "outputs": [],
   "source": []
  },
  {
   "cell_type": "code",
   "execution_count": null,
   "metadata": {},
   "outputs": [],
   "source": []
  },
  {
   "cell_type": "code",
   "execution_count": null,
   "metadata": {},
   "outputs": [],
   "source": []
  },
  {
   "cell_type": "code",
   "execution_count": null,
   "metadata": {},
   "outputs": [],
   "source": []
  },
  {
   "cell_type": "code",
   "execution_count": null,
   "metadata": {},
   "outputs": [],
   "source": []
  },
  {
   "cell_type": "code",
   "execution_count": null,
   "metadata": {},
   "outputs": [],
   "source": []
  },
  {
   "cell_type": "code",
   "execution_count": null,
   "metadata": {},
   "outputs": [],
   "source": []
  },
  {
   "cell_type": "code",
   "execution_count": null,
   "metadata": {},
   "outputs": [],
   "source": []
  },
  {
   "cell_type": "code",
   "execution_count": null,
   "metadata": {},
   "outputs": [],
   "source": []
  },
  {
   "cell_type": "code",
   "execution_count": null,
   "metadata": {},
   "outputs": [],
   "source": []
  },
  {
   "cell_type": "code",
   "execution_count": null,
   "metadata": {},
   "outputs": [],
   "source": []
  },
  {
   "cell_type": "markdown",
   "metadata": {},
   "source": [
    "\n",
    "## Helper Functions <a class=\"anchor\" id=\"help\"></a>\n"
   ]
  },
  {
   "cell_type": "code",
   "execution_count": 21,
   "metadata": {},
   "outputs": [],
   "source": [
    "# Packages used only for helper functions\n",
    "from IPython.display import Markdown, display"
   ]
  },
  {
   "cell_type": "code",
   "execution_count": 22,
   "metadata": {},
   "outputs": [],
   "source": [
    "def printmd(string):\n",
    "    display(Markdown(string))"
   ]
  }
 ],
 "metadata": {
  "kernelspec": {
   "display_name": "Python 3",
   "language": "python",
   "name": "python3"
  },
  "language_info": {
   "codemirror_mode": {
    "name": "ipython",
    "version": 3
   },
   "file_extension": ".py",
   "mimetype": "text/x-python",
   "name": "python",
   "nbconvert_exporter": "python",
   "pygments_lexer": "ipython3",
   "version": "3.7.1"
  }
 },
 "nbformat": 4,
 "nbformat_minor": 2
}
